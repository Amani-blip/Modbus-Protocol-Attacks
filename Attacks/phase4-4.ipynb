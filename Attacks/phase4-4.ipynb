{
 "cells": [
  {
   "cell_type": "code",
   "execution_count": 2,
   "metadata": {},
   "outputs": [],
   "source": [
    "import pandas as pd\n",
    "from sklearn.preprocessing import LabelEncoder\n",
    "from sklearn.model_selection import train_test_split\n",
    "from sklearn.impute import SimpleImputer\n",
    "from sklearn.tree import DecisionTreeClassifier\n",
    "from sklearn.ensemble import RandomForestClassifier, GradientBoostingClassifier\n",
    "from sklearn.metrics import accuracy_score, precision_score, recall_score\n",
    "import time\n",
    "\n",
    "# Load the datasets\n",
    "files = ['clean.csv', 'mitm.csv', 'modbusQuery2Flooding.csv', 'modbusQueryFlooding.csv', 'pingFloodDDos.csv', 'tcpSYNFlood.csv']\n",
    "data = pd.concat([pd.read_csv(f) for f in files], ignore_index=True)\n",
    "\n",
    "\n",
    "\n",
    "\n",
    "relevant_features = ['Length',\n",
    "                    'Protocol',\n",
    "                    'SrcIP',\n",
    "                    'DstIP',\n",
    "                    'SrcPort',\n",
    "                    'DstPort',\n",
    "                    'SYNFlag',\n",
    "                    'ACKFlag',\n",
    "                    'TimeDelta',\n",
    "                    'AttackName']\n",
    "\n",
    "\n",
    "\n",
    "data = data[relevant_features]\n"
   ]
  },
  {
   "cell_type": "code",
   "execution_count": 3,
   "metadata": {},
   "outputs": [
    {
     "name": "stdout",
     "output_type": "stream",
     "text": [
      "   Length    Protocol              SrcIP                           DstIP  \\\n",
      "0      60         TCP      172.27.224.70                  172.27.224.250   \n",
      "1      64         STP  HewlettP_8e:40:b3  Spanning-tree-(for-bridges)_00   \n",
      "2      66  Modbus/TCP      172.27.224.70                  172.27.224.250   \n",
      "3      85  Modbus/TCP     172.27.224.250                   172.27.224.70   \n",
      "4      60         TCP      172.27.224.70                  172.27.224.250   \n",
      "\n",
      "   SrcPort  DstPort  SYNFlag ACKFlag  TimeDelta AttackName  \n",
      "0  49499.0    502.0  Not set     Set   0.000000      Clean  \n",
      "1     -1.0     -1.0    False   False   0.020940      Clean  \n",
      "2  49499.0    502.0  Not set     Set   0.073369      Clean  \n",
      "3    502.0  49499.0  Not set     Set   0.003118      Clean  \n",
      "4  49499.0    502.0  Not set     Set   0.214545      Clean  \n",
      "Columns in loaded data: Index(['Length', 'Protocol', 'SrcIP', 'DstIP', 'SrcPort', 'DstPort', 'SYNFlag',\n",
      "       'ACKFlag', 'TimeDelta', 'AttackName'],\n",
      "      dtype='object')\n",
      "Unique values in 'AttackName' before mapping: ['Clean' 'mitm' 'modbusQuery2Flooding' 'modbusQueryFlooding'\n",
      " 'pingFloodDDoS' 'tcpSYNFloodDDoS']\n"
     ]
    }
   ],
   "source": [
    "# Check the first few rows of the data to ensure it's loaded correctly\n",
    "print(data.head())\n",
    "\n",
    "# Check the columns in the loaded data\n",
    "print(\"Columns in loaded data:\", data.columns)\n",
    "\n",
    "# Verify the unique values in 'AttackName'\n",
    "print(\"Unique values in 'AttackName' before mapping:\", data['AttackName'].unique())"
   ]
  },
  {
   "cell_type": "code",
   "execution_count": 4,
   "metadata": {},
   "outputs": [
    {
     "name": "stdout",
     "output_type": "stream",
     "text": [
      "Unique values in 'AttackName' before mapping: ['Clean' 'mitm' 'modbusQuery2Flooding' 'modbusQueryFlooding'\n",
      " 'pingFloodDDoS' 'tcpSYNFloodDDoS']\n",
      "Unique values in 'AttackName' after mapping: [nan  2.  3.  4.]\n",
      "Non-null values in 'AttackName' after mapping: 4475012\n",
      "Data shape after dropping rows with missing 'AttackName': (4475012, 10)\n",
      "Non-null values in 'AttackName': 4475012\n",
      "Data shape after dropping rows with missing 'AttackName': (4475012, 10)\n"
     ]
    }
   ],
   "source": [
    "# Load and combine datasets (assuming this part is done above)\n",
    "print(\"Unique values in 'AttackName' before mapping:\", data['AttackName'].unique())\n",
    "\n",
    "# Ensure the mapping dictionary keys exactly match the unique values in 'AttackName'\n",
    "attack_name_mapping = {\n",
    "    'clean': 1,  \n",
    "    'mitm': 2,\n",
    "    'modbusQuery2Flooding': 3,\n",
    "    'modbusQueryFlooding': 4,\n",
    "    'pingFloodDDos': 5,\n",
    "    'tcpSYNFlood': 6\n",
    "}\n",
    "\n",
    "# Apply the mapping\n",
    "data['AttackName'] = data['AttackName'].map(attack_name_mapping)\n",
    "\n",
    "# Check the results of the mapping\n",
    "print(\"Unique values in 'AttackName' after mapping:\", data['AttackName'].unique())\n",
    "print(\"Non-null values in 'AttackName' after mapping:\", data['AttackName'].notnull().sum())\n",
    "\n",
    "# If after mapping, 'AttackName' has no valid data, there's a mismatch in the mapping keys\n",
    "if data['AttackName'].notnull().sum() == 0:\n",
    "    print(\"Mapping has failed, check the mapping dictionary and the original data values.\")\n",
    "    # Consider revising the attack_name_mapping dictionary or the original 'AttackName' data\n",
    "else:\n",
    "    # Proceed with dropping NaN values, encoding, imputation, and model training\n",
    "    data.dropna(subset=['AttackName'], inplace=True)\n",
    "    print(\"Data shape after dropping rows with missing 'AttackName':\", data.shape)\n",
    "\n",
    "# Only drop rows if 'AttackName' has valid data after mapping\n",
    "if data['AttackName'].isnull().any():\n",
    "    data.dropna(subset=['AttackName'], inplace=True)\n",
    "\n",
    "# Ensure there is still data left after dropping NaN values\n",
    "if data.empty:\n",
    "    raise ValueError(\"No data left in DataFrame after dropping rows with missing 'AttackName'.\")\n",
    "\n",
    "# Check for non-null values before dropping rows\n",
    "print(\"Non-null values in 'AttackName':\", data['AttackName'].notnull().sum())\n",
    "\n",
    "# Drop rows with missing 'AttackName'\n",
    "data.dropna(subset=['AttackName'], inplace=True)\n",
    "\n",
    "# Check the size of the DataFrame after dropping rows\n",
    "print(\"Data shape after dropping rows with missing 'AttackName':\", data.shape)\n",
    "\n",
    "# Verify that we still have data to work with\n",
    "if data.empty:\n",
    "    raise ValueError(\"No data left in DataFrame after dropping rows with missing 'AttackName'.\")\n",
    "\n",
    "# Encode categorical features\n",
    "categorical_features = ['Protocol', 'SrcIP', 'DstIP', 'SYNFlag', 'ACKFlag']\n",
    "label_encoder = LabelEncoder()\n",
    "for col in categorical_features:\n",
    "    data[col] = label_encoder.fit_transform(data[col].astype(str))\n",
    "\n",
    "# Impute missing values for the rest of the dataset\n",
    "imputer = SimpleImputer(strategy='most_frequent')\n",
    "data = pd.DataFrame(imputer.fit_transform(data), columns=data.columns)\n",
    "\n",
    "# Convert all columns to numeric\n",
    "data = data.apply(pd.to_numeric, errors='coerce')\n",
    "\n",
    "# Split the dataset into features (X) and target (y)\n",
    "X = data.drop(['AttackName'], axis=1)  \n",
    "y = data['AttackName'].astype(int)\n",
    "\n"
   ]
  },
  {
   "cell_type": "code",
   "execution_count": 5,
   "metadata": {},
   "outputs": [
    {
     "name": "stdout",
     "output_type": "stream",
     "text": [
      "Decision Tree:\n",
      "Accuracy: 0.7077\n",
      "Precision: 0.7102\n",
      "Recall: 0.7153\n",
      "Training Time: 13.5404 seconds\n",
      "\n",
      "Random Forest:\n",
      "Accuracy: 0.7201\n",
      "Precision: 0.7227\n",
      "Recall: 0.7207\n",
      "Training Time: 711.1789 seconds\n",
      "\n",
      "Gradient Boosting:\n",
      "Accuracy: 0.7274\n",
      "Precision: 0.7433\n",
      "Recall: 0.7073\n",
      "Training Time: 964.0151 seconds\n",
      "\n"
     ]
    },
    {
     "ename": "",
     "evalue": "",
     "output_type": "error",
     "traceback": [
      "\u001b[1;31mThe Kernel crashed while executing code in the current cell or a previous cell. \n",
      "\u001b[1;31mPlease review the code in the cell(s) to identify a possible cause of the failure. \n",
      "\u001b[1;31mClick <a href='https://aka.ms/vscodeJupyterKernelCrash'>here</a> for more info. \n",
      "\u001b[1;31mView Jupyter <a href='command:jupyter.viewOutput'>log</a> for further details."
     ]
    }
   ],
   "source": [
    "# Train-test split\n",
    "X_train, X_test, y_train, y_test = train_test_split(X, y, test_size=0.3, random_state=42)\n",
    "\n",
    "# Initialize and train the models\n",
    "models = {\n",
    "    'Decision Tree': DecisionTreeClassifier(random_state=42),\n",
    "    'Random Forest': RandomForestClassifier(random_state=42),\n",
    "    'Gradient Boosting': GradientBoostingClassifier(random_state=42)\n",
    "}\n",
    "\n",
    "# Train and evaluate each model\n",
    "for name, model in models.items():\n",
    "    start_time = time.time()\n",
    "    model.fit(X_train, y_train)\n",
    "    train_time = time.time() - start_time\n",
    "    y_pred = model.predict(X_test)\n",
    "    \n",
    "    accuracy = accuracy_score(y_test, y_pred)\n",
    "    precision = precision_score(y_test, y_pred, average='macro', zero_division=0)\n",
    "    recall = recall_score(y_test, y_pred, average='macro', zero_division=0)\n",
    "    \n",
    "    print(f\"{name}:\")\n",
    "    print(f\"Accuracy: {accuracy:.4f}\")\n",
    "    print(f\"Precision: {precision:.4f}\")\n",
    "    print(f\"Recall: {recall:.4f}\")\n",
    "    print(f\"Training Time: {train_time:.4f} seconds\\n\")"
   ]
  },
  {
   "cell_type": "code",
   "execution_count": 1,
   "metadata": {},
   "outputs": [
    {
     "data": {
      "image/png": "[encoded data removed]",
      "text/plain": [
       "<Figure size 1000x600 with 1 Axes>"
      ]
     },
     "metadata": {},
     "output_type": "display_data"
    }
   ],
   "source": [
    "import matplotlib.pyplot as plt\n",
    "\n",
    "# Model names and their performances\n",
    "models = ['Decision Tree', 'Random Forest', 'Gradient Boosting']\n",
    "accuracies = [0.7077, 0.7201, 0.7274]\n",
    "precisions = [0.7102, 0.7227, 0.7433]\n",
    "recalls = [0.7153, 0.7207, 0.7073]\n",
    "\n",
    "# Creating the plots\n",
    "fig, ax = plt.subplots(figsize=(10, 6))\n",
    "width = 0.25\n",
    "x = range(len(models))\n",
    "\n",
    "# Plotting each metric\n",
    "ax.bar(x, accuracies, width, label='Accuracy', edgecolor='black')\n",
    "ax.bar([p + width for p in x], precisions, width, label='Precision', edgecolor='black')\n",
    "ax.bar([p + width*2 for p in x], recalls, width, label='Recall', edgecolor='black')\n",
    "\n",
    "# Adding labels and title\n",
    "ax.set_ylabel('Scores')\n",
    "ax.set_title('Model Performance Comparison')\n",
    "ax.set_xticks([p + width for p in x])\n",
    "ax.set_xticklabels(models)\n",
    "ax.legend()\n",
    "\n",
    "# Display the plot\n",
    "plt.tight_layout()\n",
    "plt.show()\n"
   ]
  }
 ],
 "metadata": {
  "kernelspec": {
   "display_name": "Python 3",
   "language": "python",
   "name": "python3"
  },
  "language_info": {
   "codemirror_mode": {
    "name": "ipython",
    "version": 3
   },
   "file_extension": ".py",
   "mimetype": "text/x-python",
   "name": "python",
   "nbconvert_exporter": "python",
   "pygments_lexer": "ipython3",
   "version": "3.11.8"
  }
 },
 "nbformat": 4,
 "nbformat_minor": 2
}
